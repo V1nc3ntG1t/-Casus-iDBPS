{
 "cells": [
  {
   "cell_type": "code",
   "execution_count": 1,
   "id": "ab0b514c",
   "metadata": {},
   "outputs": [],
   "source": [
    "# import necessary libraries\n",
    "from sklearn.ensemble import RandomForestRegressor\n",
    "from sklearn.metrics import mean_squared_error\n",
    "from sklearn.model_selection import train_test_split\n",
    "import pandas as pd"
   ]
  },
  {
   "cell_type": "code",
   "execution_count": null,
   "id": "24b439f0",
   "metadata": {},
   "outputs": [],
   "source": [
    "#these functions are consulteded from the folowwing link: https://www.kaggle.com/code/neerajmohan/randomforest-model-with-bayesian-optimization\n",
    "import seaborn as sns\n",
    "from sklearn.model_selection import train_test_split,cross_val_score,StratifiedKFold\n",
    "from sklearn.metrics import confusion_matrix,classification_report,precision_score, recall_score, f1_score, accuracy_score, accuracy_score, make_scorer\n",
    "from sklearn.ensemble import RandomForestClassifier\n",
    "from bayes_opt import BayesianOptimization\n",
    "\n",
    "from sklearn import datasets, linear_model\n",
    "from sklearn.model_selection import cross_val_score\n",
    "\n",
    "#cross validation to test the mean accuracy of the changed hyperparameters on the k ammount of cross validation folds.\n",
    "def stratified_kfold_score(clf,X,y,n_fold):\n",
    "    #strat_kfold = StratifiedKFold(n_splits=n_fold, shuffle=True, random_state=1)\n",
    "    #score = cross_val_score(clf, X, y, cv=strat_kfold, scoring='accuracy', n_jobs=-1)\n",
    "    #this is not needed scince the standard method is stratefied k fold\n",
    "    \n",
    "    score = cross_val_score(clf, X, y, cv=n_fold, scoring='accuracy', n_jobs=-1)\n",
    "    return score.mean()\n",
    "\n",
    "\n",
    "#makinging the random forest tree and calling the fucntion for cross valdiation with 10 cross validations\n",
    "def bo_params_rf(min_samples_split,max_depth,max_features,n_estimators):\n",
    "    \n",
    "    params = {\n",
    "        'min_samples_split': round(min_samples_split),\n",
    "        'max_depth': round(max_depth),\n",
    "        'max_features': max_features,\n",
    "        'n_estimators':round(n_estimators)\n",
    "    }    \n",
    "        \n",
    "    clf = RandomForestClassifier(min_samples_split=int(params['min_samples_split']), \n",
    "                                 max_depth=int(params['max_depth']), \n",
    "                                 max_features=params['max_features'],\n",
    "                                 n_estimators=int(params['n_estimators']), \n",
    "                                 bootstrap=False,\n",
    "                                 n_jobs = -1)\n",
    "    score = stratified_kfold_score(clf,train_X, train_y,10)    \n",
    "    return score"
   ]
  },
  {
   "cell_type": "code",
   "execution_count": 2,
   "id": "df0eb8e0",
   "metadata": {},
   "outputs": [],
   "source": [
    "# Read dataset\n",
    "clean_df = pd.read_csv('dataset.csv', sep=\",\")\n",
    "X = clean_df.drop(columns=['Respiratory Rate (1/min)', 'Ventilation (sL/min)'])\n",
    "y = clean_df[['Respiratory Rate (1/min)', 'Ventilation (sL/min)']]\n",
    "\n",
    "# split data into training and testing sets\n",
    "X_train, X_test, y_train, y_test = train_test_split(X, y, test_size=0.2, random_state=42)"
   ]
  },
  {
   "cell_type": "code",
   "execution_count": null,
   "id": "c45bec58",
   "metadata": {},
   "outputs": [],
   "source": [
    "# Creating an evaluated model\n",
    "\n",
    "# Create Bayesian Optimization\n",
    "rf_bo = BayesianOptimization(bo_params_rf, {\n",
    "    'n_estimators': (100, 1000),\n",
    "    'max_depth': (1, 20),\n",
    "    'max_features': (0.1, 1),\n",
    "    'min_samples_split': (2, 12)\n",
    "})\n",
    "\n",
    "#getting best hyperparameters from bayesian optimization\n",
    "results = rf_bo.maximize(n_iter=250, init_points=20, acq='ei')\n",
    "params = rf_bo.max['params']\n",
    "params['n_estimators']= round(params['n_estimators'])\n",
    "params['min_samples_split']= round(params['min_samples_split'])\n",
    "params['max_depth']= round(params['max_depth'])\n",
    "\n",
    "#making random forest model with the best hyperparameters\n",
    "rf_bo = RandomForestClassifier(min_samples_split=params['min_samples_split'],\n",
    "                                                max_depth=params['max_depth'],\n",
    "                                                max_features=params['max_features'],\n",
    "                                                n_estimators=params['n_estimators'],\n",
    "                                                bootstrap=False)\n",
    "\n",
    "# fitting the rf with the best hyperparameters according to the bayesian \n",
    "rf_bo.fit(X_train, y_train)"
   ]
  },
  {
   "cell_type": "code",
   "execution_count": null,
   "id": "827a7202",
   "metadata": {},
   "outputs": [],
   "source": [
    "# predict on test data\n",
    "y_pred = rf.predict(X_test)"
   ]
  },
  {
   "cell_type": "code",
   "execution_count": null,
   "id": "147abe35",
   "metadata": {},
   "outputs": [],
   "source": [
    "# calculate metrics\n",
    "mae = mean_absolute_error(y_test[target], y_pred)\n",
    "mape = mean_absolute_percentage_error(y_test[target], y_pred)\n",
    "mse = mean_squared_error(y_test[target], y_pred)\n",
    "rmse = np.sqrt(mean_squared_error(y_test[target], y_pred))\n",
    "r2 = r2_score(y_test[target], y_pred)\n",
    "n = len(y_test[target])\n",
    "p = X_test.shape[1]\n",
    "r2_adj = 1 - (1 - r2) * ((n - 1) / (n - p - 1))\n",
    "# print metrics\n",
    "print(f'mae: {mae:.2f}')\n",
    "print(f'mape: {mape:.2f}')\n",
    "print(f'mse: {mse:.2f}')\n",
    "print(f'rmse: {rmse:.2f}')\n",
    "print(f'r2: {r2:.2f}')\n",
    "print(f'r2_adj: {r2_adj:.2f}')"
   ]
  }
 ],
 "metadata": {
  "kernelspec": {
   "display_name": "Python 3",
   "language": "python",
   "name": "python3"
  },
  "language_info": {
   "codemirror_mode": {
    "name": "ipython",
    "version": 3
   },
   "file_extension": ".py",
   "mimetype": "text/x-python",
   "name": "python",
   "nbconvert_exporter": "python",
   "pygments_lexer": "ipython3",
   "version": "3.8.8"
  }
 },
 "nbformat": 4,
 "nbformat_minor": 5
}
