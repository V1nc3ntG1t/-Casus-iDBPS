{
 "cells": [
  {
   "cell_type": "code",
   "execution_count": 17,
   "id": "f5242063",
   "metadata": {},
   "outputs": [
    {
     "data": {
      "text/plain": [
       "CompletedProcess(args=['pip', 'install', 'azure'], returncode=1)"
      ]
     },
     "execution_count": 17,
     "metadata": {},
     "output_type": "execute_result"
    }
   ],
   "source": [
    "subprocess.run([\"pip\", \"install\", \"azure\"])\n"
   ]
  },
  {
   "cell_type": "code",
   "execution_count": 18,
   "id": "31359cbb",
   "metadata": {},
   "outputs": [
    {
     "ename": "ModuleNotFoundError",
     "evalue": "No module named 'azure'",
     "output_type": "error",
     "traceback": [
      "\u001b[1;31m---------------------------------------------------------------------------\u001b[0m",
      "\u001b[1;31mModuleNotFoundError\u001b[0m                       Traceback (most recent call last)",
      "\u001b[1;32m<ipython-input-18-37e7f3fed1b0>\u001b[0m in \u001b[0;36m<module>\u001b[1;34m\u001b[0m\n\u001b[0;32m      1\u001b[0m \u001b[1;31m# import required libraries\u001b[0m\u001b[1;33m\u001b[0m\u001b[1;33m\u001b[0m\u001b[1;33m\u001b[0m\u001b[0m\n\u001b[1;32m----> 2\u001b[1;33m \u001b[1;32mfrom\u001b[0m \u001b[0mazure\u001b[0m\u001b[1;33m.\u001b[0m\u001b[0midentity\u001b[0m \u001b[1;32mimport\u001b[0m \u001b[0mDefaultAzureCredential\u001b[0m\u001b[1;33m,\u001b[0m \u001b[0mInteractiveBrowserCredential\u001b[0m\u001b[1;33m\u001b[0m\u001b[1;33m\u001b[0m\u001b[0m\n\u001b[0m\u001b[0;32m      3\u001b[0m \u001b[1;33m\u001b[0m\u001b[0m\n\u001b[0;32m      4\u001b[0m \u001b[1;32mfrom\u001b[0m \u001b[0mazure\u001b[0m\u001b[1;33m.\u001b[0m\u001b[0mai\u001b[0m\u001b[1;33m.\u001b[0m\u001b[0mml\u001b[0m \u001b[1;32mimport\u001b[0m \u001b[0mMLClient\u001b[0m\u001b[1;33m\u001b[0m\u001b[1;33m\u001b[0m\u001b[0m\n\u001b[0;32m      5\u001b[0m \u001b[1;32mfrom\u001b[0m \u001b[0mazure\u001b[0m\u001b[1;33m.\u001b[0m\u001b[0mai\u001b[0m\u001b[1;33m.\u001b[0m\u001b[0mml\u001b[0m\u001b[1;33m.\u001b[0m\u001b[0mdsl\u001b[0m \u001b[1;32mimport\u001b[0m \u001b[0mpipeline\u001b[0m\u001b[1;33m\u001b[0m\u001b[1;33m\u001b[0m\u001b[0m\n",
      "\u001b[1;31mModuleNotFoundError\u001b[0m: No module named 'azure'"
     ]
    }
   ],
   "source": [
    "# import required libraries\n",
    "from azure.identity import DefaultAzureCredential, InteractiveBrowserCredential\n",
    "\n",
    "from azure.ai.ml import MLClient\n",
    "from azure.ai.ml.dsl import pipeline\n",
    "from azure.ai.ml import load_component"
   ]
  },
  {
   "cell_type": "code",
   "execution_count": 10,
   "id": "6d14302a",
   "metadata": {},
   "outputs": [
    {
     "data": {
      "text/plain": [
       "CompletedProcess(args=['pip', 'install', '-r', 'requirements.txt'], returncode=1)"
      ]
     },
     "execution_count": 10,
     "metadata": {},
     "output_type": "execute_result"
    }
   ],
   "source": [
    "#TODO: globale requirements doc\n",
    "\n",
    "import subprocess\n",
    "subprocess.run([\"python\", \"-V\"])\n",
    "subprocess.run([\"python\", \"-m\", \"pip\", \"install\", \"--upgrade\", \"pip\"])\n",
    "subprocess.run([\"pip\", \"install\", \"mediapipe\", \"moviepy\"])\n",
    "# install packages from requirements.txt\n",
    "subprocess.run([\"pip\", \"install\", \"-r\", \"requirements.txt\"])"
   ]
  },
  {
   "cell_type": "markdown",
   "id": "d8f47ac8",
   "metadata": {},
   "source": [
    "<h2>1.4 Prepare Job Input"
   ]
  },
  {
   "cell_type": "code",
   "execution_count": 8,
   "id": "bf6b9636",
   "metadata": {},
   "outputs": [],
   "source": [
    "import os\n",
    "import pandas as pd\n",
    "\n",
    "PATH = os.getcwd()  # This is not for docker\n",
    "# PATH = \"./\"\n",
    "\n",
    "# Loop through each file and save the path\n",
    "path_input = f\"{PATH}/data/input/\"\n",
    "path_output = f\"{PATH}/data/output_video/\"\n",
    "path_clean_dataset = f\"{PATH}/data/clean_dataset/\"\n",
    "\n",
    "# Saving all file directories\n",
    "files_path = []\n",
    "for filename in os.listdir(path_input):\n",
    "    f_dir = os.path.join(path_input, filename)\n",
    "    if f_dir.endswith('csv'):  # saving csv files dir\n",
    "        files_path.append(f_dir)\n",
    "for filename in os.listdir(path_output):\n",
    "    f_dir = os.path.join(path_output, filename)\n",
    "    if f_dir.endswith('csv'):  # saving csv files dir\n",
    "        files_path.append(f_dir)\n",
    "    if f_dir.endswith('json'):  # saving csv files dir\n",
    "        files_path.append(f_dir)\n",
    "\n",
    "# making a dictionary of all the dfs sorted on the session\n",
    "session_dfs = {}\n",
    "for file_path in files_path:\n",
    "    if file_path.endswith(\"_raw_data.csv\"):\n",
    "        session = file_path[file_path.rfind(\"-\") + 1:-13]\n",
    "        try:\n",
    "            session_dfs[session][\"session1_raw_df\"] = pd.read_csv(file_path, sep=\",\")\n",
    "        except:\n",
    "            session_dfs[session] = {}\n",
    "            session_dfs[session][\"session1_raw_df\"] = pd.read_csv(file_path, sep=\",\")\n",
    "    elif file_path.endswith(\".csv\"):\n",
    "        session = file_path[file_path.rfind(\"-\") + 2:]\n",
    "        session, _ = session.split('.')\n",
    "        try:\n",
    "            session_dfs[session][\"session2_df\"] = pd.read_csv(file_path, sep=\",\")\n",
    "        except:\n",
    "            session_dfs[session] = {}\n",
    "            session_dfs[session][\"session2_df\"] = pd.read_csv(file_path, sep=\",\")\n",
    "    elif file_path.endswith(\".json\"):\n",
    "        session = file_path[file_path.rfind(\"-\") + 1:-16]\n",
    "        try:\n",
    "            session_dfs[session][\"session1_video_df\"] = pd.read_json(file_path, orient='index')\n",
    "        except:\n",
    "            session_dfs[session] = {}\n",
    "            session_dfs[session][\"session1_video_df\"] = pd.read_json(file_path, orient='index')"
   ]
  },
  {
   "cell_type": "markdown",
   "id": "5d6fe4ae",
   "metadata": {},
   "source": [
    "<H1>2. Define and load command component"
   ]
  },
  {
   "cell_type": "code",
   "execution_count": 12,
   "id": "cf22114f",
   "metadata": {},
   "outputs": [],
   "source": [
    "# load component function from component python file\n",
    "from prep.prep_component import prepare_data_component\n",
    "#from train.train_component import train_component"
   ]
  },
  {
   "cell_type": "markdown",
   "id": "02f4c2eb",
   "metadata": {},
   "source": [
    "<h2>2.1 Load components defined with python function"
   ]
  },
  {
   "cell_type": "code",
   "execution_count": null,
   "id": "d2e9a7ea",
   "metadata": {},
   "outputs": [],
   "source": []
  },
  {
   "cell_type": "markdown",
   "id": "e83dae03",
   "metadata": {},
   "source": [
    "<h2>2.2 Load component defined with yaml"
   ]
  },
  {
   "cell_type": "code",
   "execution_count": null,
   "id": "d7748c37",
   "metadata": {},
   "outputs": [],
   "source": [
    "# load component function from yaml\n",
    "#keras_score_component = load_component(source=\"./score/score.yaml\")"
   ]
  },
  {
   "cell_type": "markdown",
   "id": "f048feaa",
   "metadata": {},
   "source": [
    "<h1>3. Build pipeline"
   ]
  },
  {
   "cell_type": "code",
   "execution_count": 30,
   "id": "69ac8157",
   "metadata": {},
   "outputs": [
    {
     "ename": "NameError",
     "evalue": "name 'pipeline' is not defined",
     "output_type": "error",
     "traceback": [
      "\u001b[1;31m---------------------------------------------------------------------------\u001b[0m",
      "\u001b[1;31mNameError\u001b[0m                                 Traceback (most recent call last)",
      "\u001b[1;32m<ipython-input-30-a6965d863826>\u001b[0m in \u001b[0;36m<module>\u001b[1;34m\u001b[0m\n\u001b[0;32m      1\u001b[0m \u001b[1;31m# define a pipeline containing 3 nodes: Prepare data node, train node, and score node\u001b[0m\u001b[1;33m\u001b[0m\u001b[1;33m\u001b[0m\u001b[1;33m\u001b[0m\u001b[0m\n\u001b[1;32m----> 2\u001b[1;33m @pipeline(\n\u001b[0m\u001b[0;32m      3\u001b[0m     \u001b[0mdefault_compute\u001b[0m\u001b[1;33m=\u001b[0m\u001b[0mcpu_compute_target\u001b[0m\u001b[1;33m,\u001b[0m\u001b[1;33m\u001b[0m\u001b[1;33m\u001b[0m\u001b[0m\n\u001b[0;32m      4\u001b[0m )\n\u001b[0;32m      5\u001b[0m \u001b[1;32mdef\u001b[0m \u001b[0mimage_idbps_pipeline\u001b[0m\u001b[1;33m(\u001b[0m\u001b[0mpipeline_input_data\u001b[0m\u001b[1;33m)\u001b[0m\u001b[1;33m:\u001b[0m\u001b[1;33m\u001b[0m\u001b[1;33m\u001b[0m\u001b[0m\n",
      "\u001b[1;31mNameError\u001b[0m: name 'pipeline' is not defined"
     ]
    }
   ],
   "source": [
    "# define a pipeline containing 3 nodes: Prepare data node, train node, and score node\n",
    "@pipeline(\n",
    "    default_compute=cpu_compute_target,\n",
    ")\n",
    "def image_idbps_pipeline(pipeline_input_data):\n",
    "    \"\"\"E2E image classification pipeline with keras using python sdk.\"\"\"\n",
    "    prepare_data_node = prepare_data_component(input_data=session_dfs)\n",
    "\n",
    "    #train_node = keras_train_component(\n",
    "    #    input_data=prepare_data_node.outputs.training_data\n",
    "    #)\n",
    "    #train_node.compute = gpu_compute_target\n",
    "\n",
    "    #score_node = keras_score_component(\n",
    "    #    input_data=prepare_data_node.outputs.test_data,\n",
    "    #    input_model=train_node.outputs.output_model,\n",
    "    #)\n",
    "\n",
    "\n",
    "# create a pipeline\n",
    "pipeline_job = image_classification_keras_minist_convnet(pipeline_input_data=fashion_ds)"
   ]
  },
  {
   "cell_type": "markdown",
   "id": "f79e81de",
   "metadata": {},
   "source": [
    "<h1>4. Submit pipeline job"
   ]
  },
  {
   "cell_type": "code",
   "execution_count": null,
   "id": "510ee18a",
   "metadata": {},
   "outputs": [],
   "source": [
    "pipeline_job = ml_client.jobs.create_or_update(\n",
    "    pipeline_job, experiment_name=\"pipeline_samples\"\n",
    ")\n",
    "pipeline_job"
   ]
  },
  {
   "cell_type": "code",
   "execution_count": null,
   "id": "46e519e1",
   "metadata": {},
   "outputs": [],
   "source": [
    "# wait until the job completes\n",
    "ml_client.jobs.stream(pipeline_job.name)"
   ]
  }
 ],
 "metadata": {
  "kernelspec": {
   "display_name": "Python 3",
   "language": "python",
   "name": "python3"
  },
  "language_info": {
   "codemirror_mode": {
    "name": "ipython",
    "version": 3
   },
   "file_extension": ".py",
   "mimetype": "text/x-python",
   "name": "python",
   "nbconvert_exporter": "python",
   "pygments_lexer": "ipython3",
   "version": "3.8.8"
  }
 },
 "nbformat": 4,
 "nbformat_minor": 5
}
