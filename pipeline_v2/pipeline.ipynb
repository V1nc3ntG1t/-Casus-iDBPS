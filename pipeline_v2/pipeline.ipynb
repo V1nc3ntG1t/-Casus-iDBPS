{
 "cells": [
  {
   "cell_type": "code",
   "execution_count": null,
   "id": "bb77f050",
   "metadata": {},
   "outputs": [],
   "source": [
    "!pip install --upgrade pip\n",
    "!pip install mediapipe moviepy\n",
    "!pip install bayesian-optimization"
   ]
  },
  {
   "cell_type": "code",
   "execution_count": null,
   "id": "545f59c1",
   "metadata": {},
   "outputs": [],
   "source": [
    "!pip install -r requirements.txt"
   ]
  },
  {
   "cell_type": "code",
   "execution_count": null,
   "id": "b601a0ac",
   "metadata": {},
   "outputs": [],
   "source": [
    "import time\n",
    "import schedule\n",
    "from data_preperation.prepare_data import Preparation\n",
    "import os\n",
    "import pandas as pd\n",
    "import subprocess"
   ]
  },
  {
   "cell_type": "markdown",
   "id": "4708effe",
   "metadata": {},
   "source": [
    "<h1>Prepare Job Input"
   ]
  },
  {
   "cell_type": "code",
   "execution_count": null,
   "id": "7c9d51dd",
   "metadata": {},
   "outputs": [],
   "source": [
    "PATH = os.getcwd()  # This is not for docker"
   ]
  },
  {
   "cell_type": "markdown",
   "id": "96cf1d2e",
   "metadata": {},
   "source": [
    "<H1>Define and load command component"
   ]
  },
  {
   "cell_type": "code",
   "execution_count": null,
   "id": "9895d95a",
   "metadata": {},
   "outputs": [],
   "source": [
    "from transform_video_data.pipeline_video_to_data import Transform\n",
    "from data_preperation.prepare_data import Preparation\n",
    "from train_evaluate_model.create_model import Model\n",
    "from test.test_input_files import TestInputFiles\n",
    "from test.test_best_model import TestBestModel"
   ]
  },
  {
   "cell_type": "markdown",
   "id": "7d88ac0f",
   "metadata": {},
   "source": [
    "<h1>Build pipeline"
   ]
  },
  {
   "cell_type": "markdown",
   "id": "ab738ea1",
   "metadata": {},
   "source": [
    "<h2>Automaticaly"
   ]
  },
  {
   "cell_type": "code",
   "execution_count": null,
   "id": "db73bc27",
   "metadata": {},
   "outputs": [],
   "source": [
    "def job():\n",
    "    print(\"This job runs every hour.\")\n",
    "\n",
    "# Schedule the job to run every hour\n",
    "schedule.every(1).hour.do(job)\n",
    "\n",
    "while True:\n",
    "    # Run any pending jobs\n",
    "    schedule.run_pending()\n",
    "\n",
    "    # Wait for 1 second\n",
    "    time.sleep(1)"
   ]
  },
  {
   "cell_type": "markdown",
   "id": "6dbf3a74",
   "metadata": {},
   "source": [
    "<h2>Force"
   ]
  },
  {
   "cell_type": "code",
   "execution_count": 40,
   "id": "5bfee014",
   "metadata": {},
   "outputs": [
    {
     "data": {
      "text/plain": [
       "'C:\\\\Users\\\\Vincent\\\\PycharmProjects\\\\Casus-iDBPS\\\\pipeline_v2'"
      ]
     },
     "execution_count": 40,
     "metadata": {},
     "output_type": "execute_result"
    }
   ],
   "source": [
    "PATH"
   ]
  },
  {
   "cell_type": "code",
   "execution_count": 43,
   "id": "809f0f4f",
   "metadata": {},
   "outputs": [
    {
     "ename": "TypeError",
     "evalue": "__init__() missing 3 required positional arguments: 'vid_path', 'csv_path', and 'path_output'",
     "output_type": "error",
     "traceback": [
      "\u001b[1;31m---------------------------------------------------------------------------\u001b[0m",
      "\u001b[1;31mTypeError\u001b[0m                                 Traceback (most recent call last)",
      "\u001b[1;32m<ipython-input-43-79612ceb47f1>\u001b[0m in \u001b[0;36m<module>\u001b[1;34m\u001b[0m\n\u001b[1;32m----> 1\u001b[1;33m \u001b[0mTransform\u001b[0m\u001b[1;33m(\u001b[0m\u001b[1;33m)\u001b[0m\u001b[1;33m\u001b[0m\u001b[1;33m\u001b[0m\u001b[0m\n\u001b[0m",
      "\u001b[1;31mTypeError\u001b[0m: __init__() missing 3 required positional arguments: 'vid_path', 'csv_path', and 'path_output'"
     ]
    }
   ],
   "source": [
    "Transform()"
   ]
  },
  {
   "cell_type": "code",
   "execution_count": 4,
   "id": "407cf1ab",
   "metadata": {},
   "outputs": [
    {
     "ename": "NameError",
     "evalue": "name 'Transform' is not defined",
     "output_type": "error",
     "traceback": [
      "\u001b[1;31m---------------------------------------------------------------------------\u001b[0m",
      "\u001b[1;31mNameError\u001b[0m                                 Traceback (most recent call last)",
      "\u001b[1;32m<ipython-input-4-aafd26267fcb>\u001b[0m in \u001b[0;36m<module>\u001b[1;34m\u001b[0m\n\u001b[0;32m     21\u001b[0m \u001b[1;33m\u001b[0m\u001b[0m\n\u001b[0;32m     22\u001b[0m \u001b[1;31m# create a pipeline\u001b[0m\u001b[1;33m\u001b[0m\u001b[1;33m\u001b[0m\u001b[1;33m\u001b[0m\u001b[0m\n\u001b[1;32m---> 23\u001b[1;33m \u001b[0midbps_pipeline\u001b[0m\u001b[1;33m(\u001b[0m\u001b[1;33m)\u001b[0m\u001b[1;33m\u001b[0m\u001b[1;33m\u001b[0m\u001b[0m\n\u001b[0m",
      "\u001b[1;32m<ipython-input-4-aafd26267fcb>\u001b[0m in \u001b[0;36midbps_pipeline\u001b[1;34m()\u001b[0m\n\u001b[0;32m      1\u001b[0m \u001b[1;32mdef\u001b[0m \u001b[0midbps_pipeline\u001b[0m\u001b[1;33m(\u001b[0m\u001b[1;33m)\u001b[0m\u001b[1;33m:\u001b[0m\u001b[1;33m\u001b[0m\u001b[1;33m\u001b[0m\u001b[0m\n\u001b[0;32m      2\u001b[0m     \u001b[1;31m# Transfrom video\u001b[0m\u001b[1;33m\u001b[0m\u001b[1;33m\u001b[0m\u001b[1;33m\u001b[0m\u001b[0m\n\u001b[1;32m----> 3\u001b[1;33m     \u001b[0mTransform\u001b[0m\u001b[1;33m(\u001b[0m\u001b[0mPATH\u001b[0m\u001b[1;33m)\u001b[0m\u001b[1;33m\u001b[0m\u001b[1;33m\u001b[0m\u001b[0m\n\u001b[0m\u001b[0;32m      4\u001b[0m \u001b[1;33m\u001b[0m\u001b[0m\n\u001b[0;32m      5\u001b[0m     \u001b[1;31m# Prepare data\u001b[0m\u001b[1;33m\u001b[0m\u001b[1;33m\u001b[0m\u001b[1;33m\u001b[0m\u001b[0m\n",
      "\u001b[1;31mNameError\u001b[0m: name 'Transform' is not defined"
     ]
    }
   ],
   "source": [
    "def idbps_pipeline():    \n",
    "    # Transfrom video\n",
    "    Transform(PATH)\n",
    "    \n",
    "    # Prepare data\n",
    "    #subprocess.run(['python', f'{PATH}/build_transform_video_to_data.py'])\n",
    "    \n",
    "    # Train & evaluate model\n",
    "    \n",
    "    \n",
    "    #train_node = keras_train_component(\n",
    "    #    input_data=prepare_data_node.outputs.training_data\n",
    "    #)\n",
    "    #train_node.compute = gpu_compute_target\n",
    "\n",
    "    #score_node = keras_score_component(\n",
    "    #    input_data=prepare_data_node.outputs.test_data,\n",
    "    #    input_model=train_node.outputs.output_model,\n",
    "    #)\n",
    "\n",
    "\n",
    "# create a pipeline\n",
    "idbps_pipeline()"
   ]
  },
  {
   "cell_type": "code",
   "execution_count": null,
   "id": "bbd53ea5",
   "metadata": {},
   "outputs": [],
   "source": []
  },
  {
   "cell_type": "code",
   "execution_count": null,
   "id": "6833297f",
   "metadata": {},
   "outputs": [],
   "source": []
  }
 ],
 "metadata": {
  "kernelspec": {
   "display_name": "Python 3",
   "language": "python",
   "name": "python3"
  },
  "language_info": {
   "codemirror_mode": {
    "name": "ipython",
    "version": 3
   },
   "file_extension": ".py",
   "mimetype": "text/x-python",
   "name": "python",
   "nbconvert_exporter": "python",
   "pygments_lexer": "ipython3",
   "version": "3.8.8"
  }
 },
 "nbformat": 4,
 "nbformat_minor": 5
}
